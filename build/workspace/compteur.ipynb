{
 "cells": [
  {
   "cell_type": "raw",
   "id": "bright-termination",
   "metadata": {},
   "source": [
    "from pyspark.sql import SparkSession\n",
    "\n",
    "spark = SparkSession.builder.appName('compteur de mots').master('spark://spark-master:7077')\\\n",
    ".config('spark.executor.memory', '512m').getOrCreate()\n",
    "\n",
    "sc = spark.sparkContext"
   ]
  },
  {
   "cell_type": "code",
   "execution_count": 3,
   "id": "thirty-newport",
   "metadata": {},
   "outputs": [],
   "source": [
    "mes_lignes = sc.textFile('/opt/workspace/data/mes_mots.txt')"
   ]
  },
  {
   "cell_type": "code",
   "execution_count": null,
   "id": "specific-possible",
   "metadata": {},
   "outputs": [],
   "source": [
    "print(mes_lignes.collect())"
   ]
  },
  {
   "cell_type": "code",
   "execution_count": 7,
   "id": "spread-updating",
   "metadata": {},
   "outputs": [],
   "source": [
    "mots = mes_lignes.map(lambda ligne : ligne.split(' '))"
   ]
  },
  {
   "cell_type": "code",
   "execution_count": 8,
   "id": "animal-pregnancy",
   "metadata": {},
   "outputs": [
    {
     "name": "stdout",
     "output_type": "stream",
     "text": [
      "[['mot1', 'mot2', 'mot3'], ['mot2', 'mot4', 'mot1', 'mot5'], ['mot3', 'mot3', 'mot5', 'mot2', 'mot4'], ['mot4', 'mot3']]\n"
     ]
    }
   ],
   "source": [
    "print(mots.collect())"
   ]
  },
  {
   "cell_type": "code",
   "execution_count": 9,
   "id": "spectacular-wallet",
   "metadata": {},
   "outputs": [],
   "source": [
    "mots = mes_lignes.flatMap(lambda ligne : ligne.split(' '))"
   ]
  },
  {
   "cell_type": "code",
   "execution_count": 10,
   "id": "little-attraction",
   "metadata": {},
   "outputs": [
    {
     "name": "stdout",
     "output_type": "stream",
     "text": [
      "['mot1', 'mot2', 'mot3', 'mot2', 'mot4', 'mot1', 'mot5', 'mot3', 'mot3', 'mot5', 'mot2', 'mot4', 'mot4', 'mot3']\n"
     ]
    }
   ],
   "source": [
    "print(mots.collect())"
   ]
  },
  {
   "cell_type": "code",
   "execution_count": 13,
   "id": "subjective-updating",
   "metadata": {},
   "outputs": [],
   "source": [
    "mots_score = mots.map(lambda mot : (mot,1))"
   ]
  },
  {
   "cell_type": "code",
   "execution_count": 14,
   "id": "packed-democracy",
   "metadata": {},
   "outputs": [
    {
     "name": "stdout",
     "output_type": "stream",
     "text": [
      "[('mot1', 1), ('mot2', 1), ('mot3', 1), ('mot2', 1), ('mot4', 1), ('mot1', 1), ('mot5', 1), ('mot3', 1), ('mot3', 1), ('mot5', 1), ('mot2', 1), ('mot4', 1), ('mot4', 1), ('mot3', 1)]\n"
     ]
    }
   ],
   "source": [
    "print(mots_score.collect())"
   ]
  },
  {
   "cell_type": "code",
   "execution_count": 17,
   "id": "alone-forth",
   "metadata": {},
   "outputs": [],
   "source": [
    "compteur = mots_score.reduceByKey(lambda val1, val2: val1 + val2 )"
   ]
  },
  {
   "cell_type": "code",
   "execution_count": 18,
   "id": "worst-medication",
   "metadata": {},
   "outputs": [
    {
     "name": "stdout",
     "output_type": "stream",
     "text": [
      "[('mot3', 4), ('mot4', 3), ('mot1', 2), ('mot2', 3), ('mot5', 2)]\n"
     ]
    }
   ],
   "source": [
    "print(compteur.collect())"
   ]
  },
  {
   "cell_type": "code",
   "execution_count": 20,
   "id": "satisfactory-moore",
   "metadata": {},
   "outputs": [],
   "source": [
    "compteur.saveAsTextFile('/opt/workspace/data/mots_comptes')"
   ]
  },
  {
   "cell_type": "code",
   "execution_count": null,
   "id": "mobile-transcription",
   "metadata": {},
   "outputs": [],
   "source": []
  }
 ],
 "metadata": {
  "kernelspec": {
   "display_name": "Python 3",
   "language": "python",
   "name": "python3"
  },
  "language_info": {
   "codemirror_mode": {
    "name": "ipython",
    "version": 3
   },
   "file_extension": ".py",
   "mimetype": "text/x-python",
   "name": "python",
   "nbconvert_exporter": "python",
   "pygments_lexer": "ipython3",
   "version": "3.7.3"
  }
 },
 "nbformat": 4,
 "nbformat_minor": 5
}
