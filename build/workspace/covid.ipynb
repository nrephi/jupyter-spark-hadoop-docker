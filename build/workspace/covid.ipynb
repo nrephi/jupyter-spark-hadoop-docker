{
 "cells": [
  {
   "cell_type": "code",
   "execution_count": 3,
   "id": "separated-runner",
   "metadata": {},
   "outputs": [],
   "source": [
    "import requests"
   ]
  },
  {
   "cell_type": "code",
   "execution_count": 4,
   "id": "trained-twist",
   "metadata": {},
   "outputs": [
    {
     "name": "stdout",
     "output_type": "stream",
     "text": [
      "Téléchargemenet du fichier de status par départements\n",
      "Téléchargement terminé\n"
     ]
    }
   ],
   "source": [
    "print('Téléchargemenet du fichier de status par départements')\n",
    "request = requests.get('https://www.data.gouv.fr/fr/datasets/r/63352e38-d353-4b54-bfd1-f1b3ee1cabd7')\n",
    "\n",
    "with open('/opt/workspace/data/covid_data.csv', 'wb') as file:\n",
    "    file.write(request.content)\n",
    "\n",
    "print('Téléchargement terminé')"
   ]
  },
  {
   "cell_type": "code",
   "execution_count": 5,
   "id": "herbal-future",
   "metadata": {},
   "outputs": [
    {
     "name": "stdout",
     "output_type": "stream",
     "text": [
      "Téléchargemenet du fichier des départements\n",
      "Téléchargement terminé\n"
     ]
    }
   ],
   "source": [
    "print('Téléchargemenet du fichier des départements')\n",
    "request = requests.get('https://www.data.gouv.fr/fr/datasets/r/70cef74f-70b1-495a-8500-c089229c0254')\n",
    "\n",
    "with open('/opt/workspace/data/departements.csv', 'wb') as file:\n",
    "    file.write(request.content)\n",
    "\n",
    "print('Téléchargement terminé')"
   ]
  },
  {
   "cell_type": "code",
   "execution_count": 6,
   "id": "impossible-techno",
   "metadata": {},
   "outputs": [],
   "source": [
    "from pyspark.sql import SparkSession\n",
    "\n",
    "spark = SparkSession.builder.appName('Evolution Covid').master('spark://spark-master:7077')\\\n",
    ".config('spark.executor.memory', '512m').getOrCreate()\n"
   ]
  },
  {
   "cell_type": "code",
   "execution_count": 33,
   "id": "basic-elite",
   "metadata": {},
   "outputs": [],
   "source": [
    "departements = spark.read.csv('/opt/workspace/data/departements.csv', header=True)\n",
    "departements.createOrReplaceTempView('departements')"
   ]
  },
  {
   "cell_type": "code",
   "execution_count": 10,
   "id": "broke-worth",
   "metadata": {},
   "outputs": [
    {
     "name": "stdout",
     "output_type": "stream",
     "text": [
      "+----------------+--------------------+-----------+--------------------+\n",
      "|code_departement|     nom_departement|code_region|          nom_region|\n",
      "+----------------+--------------------+-----------+--------------------+\n",
      "|              01|                 Ain|         84|Auvergne-Rhône-Alpes|\n",
      "|              02|               Aisne|         32|     Hauts-de-France|\n",
      "|              03|              Allier|         84|Auvergne-Rhône-Alpes|\n",
      "|              04|Alpes-de-Haute-Pr...|         93|Provence-Alpes-Cô...|\n",
      "|              05|        Hautes-Alpes|         93|Provence-Alpes-Cô...|\n",
      "|              06|     Alpes-Maritimes|         93|Provence-Alpes-Cô...|\n",
      "|              07|             Ardèche|         84|Auvergne-Rhône-Alpes|\n",
      "|              08|            Ardennes|         44|           Grand Est|\n",
      "|              09|              Ariège|         76|           Occitanie|\n",
      "|              10|                Aube|         44|           Grand Est|\n",
      "|              11|                Aude|         76|           Occitanie|\n",
      "|              12|             Aveyron|         76|           Occitanie|\n",
      "|              13|    Bouches-du-Rhône|         93|Provence-Alpes-Cô...|\n",
      "|              14|            Calvados|         28|           Normandie|\n",
      "|              15|              Cantal|         84|Auvergne-Rhône-Alpes|\n",
      "|              16|            Charente|         75|  Nouvelle-Aquitaine|\n",
      "|              17|   Charente-Maritime|         75|  Nouvelle-Aquitaine|\n",
      "|              18|                Cher|         24| Centre-Val de Loire|\n",
      "|              19|             Corrèze|         75|  Nouvelle-Aquitaine|\n",
      "|              21|           Côte-d'Or|         27|Bourgogne-Franche...|\n",
      "+----------------+--------------------+-----------+--------------------+\n",
      "only showing top 20 rows\n",
      "\n"
     ]
    }
   ],
   "source": [
    "departements.show()"
   ]
  },
  {
   "cell_type": "code",
   "execution_count": 15,
   "id": "dutch-shaft",
   "metadata": {},
   "outputs": [],
   "source": [
    "covid_data = spark.read.csv('/opt/workspace/data/covid_data.csv', header=True, sep=\";\")"
   ]
  },
  {
   "cell_type": "code",
   "execution_count": 16,
   "id": "juvenile-spice",
   "metadata": {},
   "outputs": [
    {
     "name": "stdout",
     "output_type": "stream",
     "text": [
      "+---+----+----------+----+---+---+---+\n",
      "|dep|sexe|      jour|hosp|rea|rad| dc|\n",
      "+---+----+----------+----+---+---+---+\n",
      "| 01|   0|2020-03-18|   2|  0|  1|  0|\n",
      "| 01|   1|2020-03-18|   1|  0|  1|  0|\n",
      "| 01|   2|2020-03-18|   1|  0|  0|  0|\n",
      "| 02|   0|2020-03-18|  41| 10| 18| 11|\n",
      "| 02|   1|2020-03-18|  19|  4| 11|  6|\n",
      "| 02|   2|2020-03-18|  22|  6|  7|  5|\n",
      "| 03|   0|2020-03-18|   4|  0|  1|  0|\n",
      "| 03|   1|2020-03-18|   1|  0|  0|  0|\n",
      "| 03|   2|2020-03-18|   3|  0|  1|  0|\n",
      "| 04|   0|2020-03-18|   3|  1|  2|  0|\n",
      "| 04|   1|2020-03-18|   3|  1|  0|  0|\n",
      "| 04|   2|2020-03-18|   0|  0|  2|  0|\n",
      "| 05|   0|2020-03-18|   8|  1|  9|  0|\n",
      "| 05|   1|2020-03-18|   1|  0|  7|  0|\n",
      "| 05|   2|2020-03-18|   7|  1|  2|  0|\n",
      "| 06|   0|2020-03-18|  25|  1| 47|  2|\n",
      "| 06|   1|2020-03-18|  15|  1| 19|  0|\n",
      "| 06|   2|2020-03-18|  10|  0| 28|  2|\n",
      "| 07|   0|2020-03-18|  12|  1|  0|  0|\n",
      "| 07|   1|2020-03-18|   7|  1|  0|  0|\n",
      "+---+----+----------+----+---+---+---+\n",
      "only showing top 20 rows\n",
      "\n"
     ]
    }
   ],
   "source": [
    "covid_data.show()"
   ]
  },
  {
   "cell_type": "code",
   "execution_count": null,
   "id": "eight-large",
   "metadata": {},
   "outputs": [],
   "source": [
    "covid_data.select('dep', 'sexe').show()"
   ]
  },
  {
   "cell_type": "code",
   "execution_count": 35,
   "id": "approved-peoples",
   "metadata": {},
   "outputs": [],
   "source": [
    "covid_data.createOrReplaceTempView('covid_data')"
   ]
  },
  {
   "cell_type": "code",
   "execution_count": 22,
   "id": "hourly-glance",
   "metadata": {},
   "outputs": [
    {
     "name": "stdout",
     "output_type": "stream",
     "text": [
      "+---+----+\n",
      "|dep|sexe|\n",
      "+---+----+\n",
      "| 01|   0|\n",
      "| 01|   1|\n",
      "| 01|   2|\n",
      "| 02|   0|\n",
      "| 02|   1|\n",
      "| 02|   2|\n",
      "| 03|   0|\n",
      "| 03|   1|\n",
      "| 03|   2|\n",
      "| 04|   0|\n",
      "| 04|   1|\n",
      "| 04|   2|\n",
      "| 05|   0|\n",
      "| 05|   1|\n",
      "| 05|   2|\n",
      "| 06|   0|\n",
      "| 06|   1|\n",
      "| 06|   2|\n",
      "| 07|   0|\n",
      "| 07|   1|\n",
      "+---+----+\n",
      "only showing top 20 rows\n",
      "\n"
     ]
    }
   ],
   "source": [
    "spark.sql(\"SELECT dep, sexe from covid_data\").show()"
   ]
  },
  {
   "cell_type": "code",
   "execution_count": 25,
   "id": "younger-angle",
   "metadata": {},
   "outputs": [
    {
     "name": "stdout",
     "output_type": "stream",
     "text": [
      "+---+----------+------+-----+------+\n",
      "|dep|      jour|  hosp|  rea|   rad|\n",
      "+---+----------+------+-----+------+\n",
      "| 45|2020-03-19|  18.0|  6.0|   0.0|\n",
      "| 88|2020-03-23| 129.0| 19.0|  48.0|\n",
      "| 54|2020-03-26| 417.0|186.0|  81.0|\n",
      "| 82|2020-03-29|   8.0|  4.0|   4.0|\n",
      "| 18|2020-04-03|  86.0| 26.0|  20.0|\n",
      "| 51|2020-04-03| 706.0|136.0| 470.0|\n",
      "| 91|2020-04-05|1849.0|391.0| 548.0|\n",
      "| 35|2020-04-07| 308.0| 88.0| 208.0|\n",
      "|971|2020-04-07|  68.0| 34.0|  86.0|\n",
      "| 77|2020-04-09|1493.0|399.0|1440.0|\n",
      "| 33|2020-04-15| 608.0|192.0| 853.0|\n",
      "| 25|2020-05-02| 313.0| 75.0| 866.0|\n",
      "|972|2020-05-03|  42.0| 16.0| 154.0|\n",
      "| 34|2020-05-04| 205.0| 52.0|1111.0|\n",
      "| 30|2020-05-05| 228.0| 44.0| 414.0|\n",
      "| 04|2020-05-08|  34.0|  2.0| 226.0|\n",
      "| 50|2020-05-10| 108.0|  8.0| 215.0|\n",
      "| 69|2020-05-11|1823.0|208.0|4162.0|\n",
      "| 49|2020-06-02| 198.0| 16.0|1046.0|\n",
      "| 27|2020-06-04| 136.0|  4.0| 371.0|\n",
      "+---+----------+------+-----+------+\n",
      "only showing top 20 rows\n",
      "\n"
     ]
    }
   ],
   "source": [
    "spark.sql('SELECT dep, jour, sum(hosp) hosp, sum(rea) rea, sum(rad) rad FROM covid_data GROUP BY dep, jour')\\\n",
    ".show()"
   ]
  },
  {
   "cell_type": "code",
   "execution_count": 29,
   "id": "historic-bennett",
   "metadata": {},
   "outputs": [],
   "source": [
    "covid_data = covid_data.groupBy('dep', 'jour').agg({'hosp': 'sum', 'rea': 'sum', 'rad': 'sum'})\\\n",
    ".withColumnRenamed('sum(hosp)', 'hosp')\\\n",
    ".withColumnRenamed('sum(rea)', 'rea')\\\n",
    ".withColumnRenamed('sum(rad)', 'rad')"
   ]
  },
  {
   "cell_type": "code",
   "execution_count": 30,
   "id": "eastern-trance",
   "metadata": {},
   "outputs": [
    {
     "name": "stdout",
     "output_type": "stream",
     "text": [
      "+---+----------+------+------+-----+\n",
      "|dep|      jour|  hosp|   rad|  rea|\n",
      "+---+----------+------+------+-----+\n",
      "| 45|2020-03-19|  18.0|   0.0|  6.0|\n",
      "| 88|2020-03-23| 129.0|  48.0| 19.0|\n",
      "| 54|2020-03-26| 417.0|  81.0|186.0|\n",
      "| 82|2020-03-29|   8.0|   4.0|  4.0|\n",
      "| 18|2020-04-03|  86.0|  20.0| 26.0|\n",
      "| 51|2020-04-03| 706.0| 470.0|136.0|\n",
      "| 91|2020-04-05|1849.0| 548.0|391.0|\n",
      "| 35|2020-04-07| 308.0| 208.0| 88.0|\n",
      "|971|2020-04-07|  68.0|  86.0| 34.0|\n",
      "| 77|2020-04-09|1493.0|1440.0|399.0|\n",
      "| 33|2020-04-15| 608.0| 853.0|192.0|\n",
      "| 25|2020-05-02| 313.0| 866.0| 75.0|\n",
      "|972|2020-05-03|  42.0| 154.0| 16.0|\n",
      "| 34|2020-05-04| 205.0|1111.0| 52.0|\n",
      "| 30|2020-05-05| 228.0| 414.0| 44.0|\n",
      "| 04|2020-05-08|  34.0| 226.0|  2.0|\n",
      "| 50|2020-05-10| 108.0| 215.0|  8.0|\n",
      "| 69|2020-05-11|1823.0|4162.0|208.0|\n",
      "| 49|2020-06-02| 198.0|1046.0| 16.0|\n",
      "| 27|2020-06-04| 136.0| 371.0|  4.0|\n",
      "+---+----------+------+------+-----+\n",
      "only showing top 20 rows\n",
      "\n"
     ]
    }
   ],
   "source": [
    "covid_data.show()"
   ]
  },
  {
   "cell_type": "code",
   "execution_count": 41,
   "id": "brown-ethiopia",
   "metadata": {},
   "outputs": [],
   "source": [
    "full_info = spark.sql(\"\"\"SELECT c.dep, d.nom_departement, c.jour, c.hosp, c.rad, c.rea \n",
    "FROM covid_data c \n",
    "INNER JOIN departements d ON d.code_departement = c.dep\"\"\")"
   ]
  },
  {
   "cell_type": "code",
   "execution_count": 39,
   "id": "aerial-hardwood",
   "metadata": {},
   "outputs": [
    {
     "name": "stdout",
     "output_type": "stream",
     "text": [
      "+---+----------+------+------+-----+----------------+--------------------+-----------+--------------------+\n",
      "|dep|      jour|  hosp|   rad|  rea|code_departement|     nom_departement|code_region|          nom_region|\n",
      "+---+----------+------+------+-----+----------------+--------------------+-----------+--------------------+\n",
      "| 45|2020-03-19|  18.0|   0.0|  6.0|              45|              Loiret|         24| Centre-Val de Loire|\n",
      "| 88|2020-03-23| 129.0|  48.0| 19.0|              88|              Vosges|         44|           Grand Est|\n",
      "| 54|2020-03-26| 417.0|  81.0|186.0|              54|  Meurthe-et-Moselle|         44|           Grand Est|\n",
      "| 82|2020-03-29|   8.0|   4.0|  4.0|              82|     Tarn-et-Garonne|         76|           Occitanie|\n",
      "| 18|2020-04-03|  86.0|  20.0| 26.0|              18|                Cher|         24| Centre-Val de Loire|\n",
      "| 51|2020-04-03| 706.0| 470.0|136.0|              51|               Marne|         44|           Grand Est|\n",
      "| 91|2020-04-05|1849.0| 548.0|391.0|              91|             Essonne|         11|       Île-de-France|\n",
      "| 35|2020-04-07| 308.0| 208.0| 88.0|              35|     Ille-et-Vilaine|         53|            Bretagne|\n",
      "|971|2020-04-07|  68.0|  86.0| 34.0|             971|          Guadeloupe|         01|          Guadeloupe|\n",
      "| 77|2020-04-09|1493.0|1440.0|399.0|              77|      Seine-et-Marne|         11|       Île-de-France|\n",
      "| 33|2020-04-15| 608.0| 853.0|192.0|              33|             Gironde|         75|  Nouvelle-Aquitaine|\n",
      "| 25|2020-05-02| 313.0| 866.0| 75.0|              25|               Doubs|         27|Bourgogne-Franche...|\n",
      "|972|2020-05-03|  42.0| 154.0| 16.0|             972|          Martinique|         02|          Martinique|\n",
      "| 34|2020-05-04| 205.0|1111.0| 52.0|              34|             Hérault|         76|           Occitanie|\n",
      "| 30|2020-05-05| 228.0| 414.0| 44.0|              30|                Gard|         76|           Occitanie|\n",
      "| 04|2020-05-08|  34.0| 226.0|  2.0|              04|Alpes-de-Haute-Pr...|         93|Provence-Alpes-Cô...|\n",
      "| 50|2020-05-10| 108.0| 215.0|  8.0|              50|              Manche|         28|           Normandie|\n",
      "| 69|2020-05-11|1823.0|4162.0|208.0|              69|               Rhône|         84|Auvergne-Rhône-Alpes|\n",
      "| 49|2020-06-02| 198.0|1046.0| 16.0|              49|      Maine-et-Loire|         52|    Pays de la Loire|\n",
      "| 27|2020-06-04| 136.0| 371.0|  4.0|              27|                Eure|         28|           Normandie|\n",
      "+---+----------+------+------+-----+----------------+--------------------+-----------+--------------------+\n",
      "only showing top 20 rows\n",
      "\n"
     ]
    }
   ],
   "source": [
    "covid_data.join(departements, departements.code_departement == covid_data.dep).show()"
   ]
  },
  {
   "cell_type": "code",
   "execution_count": 45,
   "id": "listed-secretariat",
   "metadata": {},
   "outputs": [],
   "source": [
    "full_info = full_info.filter(full_info.dep==62).orderBy('jour', ascending=True)"
   ]
  },
  {
   "cell_type": "code",
   "execution_count": 46,
   "id": "adaptive-montreal",
   "metadata": {},
   "outputs": [
    {
     "name": "stdout",
     "output_type": "stream",
     "text": [
      "+---+---------------+----------+-----+-----+-----+\n",
      "|dep|nom_departement|      jour| hosp|  rad|  rea|\n",
      "+---+---------------+----------+-----+-----+-----+\n",
      "| 62|  Pas-de-Calais|2020-03-18| 44.0| 32.0| 18.0|\n",
      "| 62|  Pas-de-Calais|2020-03-19| 60.0| 50.0| 22.0|\n",
      "| 62|  Pas-de-Calais|2020-03-20|100.0| 70.0| 40.0|\n",
      "| 62|  Pas-de-Calais|2020-03-21| 88.0| 54.0| 36.0|\n",
      "| 62|  Pas-de-Calais|2020-03-22| 98.0| 60.0| 40.0|\n",
      "| 62|  Pas-de-Calais|2020-03-23|130.0| 66.0| 56.0|\n",
      "| 62|  Pas-de-Calais|2020-03-24|170.0| 68.0| 68.0|\n",
      "| 62|  Pas-de-Calais|2020-03-25|206.0| 84.0| 80.0|\n",
      "| 62|  Pas-de-Calais|2020-03-26|238.0|104.0| 86.0|\n",
      "| 62|  Pas-de-Calais|2020-03-27|242.0|122.0| 88.0|\n",
      "| 62|  Pas-de-Calais|2020-03-28|298.0|138.0|108.0|\n",
      "| 62|  Pas-de-Calais|2020-03-29|336.0|148.0|116.0|\n",
      "| 62|  Pas-de-Calais|2020-03-30|381.0|166.0|150.0|\n",
      "| 62|  Pas-de-Calais|2020-03-31|430.0|188.0|168.0|\n",
      "| 62|  Pas-de-Calais|2020-04-01|549.0|208.0|186.0|\n",
      "| 62|  Pas-de-Calais|2020-04-02|579.0|256.0|198.0|\n",
      "| 62|  Pas-de-Calais|2020-04-03|686.0|313.0|232.0|\n",
      "| 62|  Pas-de-Calais|2020-04-04|726.0|355.0|244.0|\n",
      "| 62|  Pas-de-Calais|2020-04-05|725.0|375.0|244.0|\n",
      "| 62|  Pas-de-Calais|2020-04-06|780.0|401.0|246.0|\n",
      "+---+---------------+----------+-----+-----+-----+\n",
      "only showing top 20 rows\n",
      "\n"
     ]
    }
   ],
   "source": [
    "full_info.show()"
   ]
  },
  {
   "cell_type": "code",
   "execution_count": 47,
   "id": "forced-bandwidth",
   "metadata": {},
   "outputs": [
    {
     "name": "stdout",
     "output_type": "stream",
     "text": [
      "Collecting matplotlib\n",
      "  Downloading matplotlib-3.3.3-cp37-cp37m-manylinux1_x86_64.whl (11.6 MB)\n",
      "\u001b[K     |████████████████████████████████| 11.6 MB 5.9 MB/s eta 0:00:01    |▎                               | 112 kB 5.9 MB/s eta 0:00:02     |█▉                              | 645 kB 5.9 MB/s eta 0:00:02     |█████▎                          | 1.9 MB 5.9 MB/s eta 0:00:02     |██████▊                         | 2.4 MB 5.9 MB/s eta 0:00:02     |████████▏                       | 3.0 MB 5.9 MB/s eta 0:00:02     |█████████                       | 3.2 MB 5.9 MB/s eta 0:00:02     |███████████▍                    | 4.1 MB 5.9 MB/s eta 0:00:02     |████████████████████████▌       | 8.9 MB 5.9 MB/s eta 0:00:01     |██████████████████████████▉     | 9.7 MB 5.9 MB/s eta 0:00:01\n",
      "\u001b[?25hRequirement already satisfied: pandas in /usr/local/lib/python3.7/dist-packages (1.2.1)\n",
      "Requirement already satisfied: numpy>=1.15 in /usr/local/lib/python3.7/dist-packages (from matplotlib) (1.19.5)\n",
      "Collecting kiwisolver>=1.0.1\n",
      "  Downloading kiwisolver-1.3.1-cp37-cp37m-manylinux1_x86_64.whl (1.1 MB)\n",
      "\u001b[K     |████████████████████████████████| 1.1 MB 15.5 MB/s eta 0:00:01\n",
      "\u001b[?25hCollecting pillow>=6.2.0\n",
      "  Downloading Pillow-8.1.0-cp37-cp37m-manylinux1_x86_64.whl (2.2 MB)\n",
      "\u001b[K     |████████████████████████████████| 2.2 MB 10.0 MB/s eta 0:00:01\n",
      "\u001b[?25hRequirement already satisfied: python-dateutil>=2.1 in /usr/local/lib/python3.7/dist-packages (from matplotlib) (2.8.1)\n",
      "Collecting cycler>=0.10\n",
      "  Downloading cycler-0.10.0-py2.py3-none-any.whl (6.5 kB)\n",
      "Requirement already satisfied: pyparsing!=2.0.4,!=2.1.2,!=2.1.6,>=2.0.3 in /usr/local/lib/python3.7/dist-packages (from matplotlib) (2.4.7)\n",
      "Requirement already satisfied: six in /usr/lib/python3/dist-packages (from cycler>=0.10->matplotlib) (1.12.0)\n",
      "Requirement already satisfied: pytz>=2017.3 in /usr/local/lib/python3.7/dist-packages (from pandas) (2020.5)\n",
      "Installing collected packages: pillow, kiwisolver, cycler, matplotlib\n",
      "Successfully installed cycler-0.10.0 kiwisolver-1.3.1 matplotlib-3.3.3 pillow-8.1.0\n",
      "Note: you may need to restart the kernel to use updated packages.\n"
     ]
    }
   ],
   "source": [
    "pip install matplotlib pandas"
   ]
  },
  {
   "cell_type": "code",
   "execution_count": 48,
   "id": "undefined-percentage",
   "metadata": {},
   "outputs": [],
   "source": [
    "pandas_covid = full_info.toPandas()"
   ]
  },
  {
   "cell_type": "code",
   "execution_count": 49,
   "id": "prospective-classification",
   "metadata": {},
   "outputs": [
    {
     "name": "stdout",
     "output_type": "stream",
     "text": [
      "    dep nom_departement        jour   hosp     rad    rea\n",
      "0    62   Pas-de-Calais  2020-03-18   44.0    32.0   18.0\n",
      "1    62   Pas-de-Calais  2020-03-19   60.0    50.0   22.0\n",
      "2    62   Pas-de-Calais  2020-03-20  100.0    70.0   40.0\n",
      "3    62   Pas-de-Calais  2020-03-21   88.0    54.0   36.0\n",
      "4    62   Pas-de-Calais  2020-03-22   98.0    60.0   40.0\n",
      "..   ..             ...         ...    ...     ...    ...\n",
      "308  62   Pas-de-Calais  2021-01-20  901.0  8568.0  118.0\n",
      "309  62   Pas-de-Calais  2021-01-21  914.0  8592.0  123.0\n",
      "310  62   Pas-de-Calais  2021-01-22  895.0  8646.0  123.0\n",
      "311  62   Pas-de-Calais  2021-01-23  899.0  8688.0  125.0\n",
      "312  62   Pas-de-Calais  2021-01-24  905.0  8698.0  133.0\n",
      "\n",
      "[313 rows x 6 columns]\n"
     ]
    }
   ],
   "source": [
    "print(pandas_covid)"
   ]
  },
  {
   "cell_type": "code",
   "execution_count": 50,
   "id": "incomplete-rapid",
   "metadata": {},
   "outputs": [],
   "source": [
    "pandas_covid.set_index(['jour'], inplace=True)"
   ]
  },
  {
   "cell_type": "code",
   "execution_count": 52,
   "id": "dying-match",
   "metadata": {},
   "outputs": [
    {
     "data": {
      "text/plain": [
       "<AxesSubplot:xlabel='jour'>"
      ]
     },
     "execution_count": 52,
     "metadata": {},
     "output_type": "execute_result"
    },
    {
     "data": {
      "image/png": "[encoded data removed]",
      "text/plain": [
       "<Figure size 1440x576 with 1 Axes>"
      ]
     },
     "metadata": {
      "needs_background": "light"
     },
     "output_type": "display_data"
    }
   ],
   "source": [
    "pandas_covid.plot(figsize=(20,8))"
   ]
  },
  {
   "cell_type": "code",
   "execution_count": null,
   "id": "going-intersection",
   "metadata": {},
   "outputs": [],
   "source": []
  }
 ],
 "metadata": {
  "kernelspec": {
   "display_name": "Python 3",
   "language": "python",
   "name": "python3"
  },
  "language_info": {
   "codemirror_mode": {
    "name": "ipython",
    "version": 3
   },
   "file_extension": ".py",
   "mimetype": "text/x-python",
   "name": "python",
   "nbconvert_exporter": "python",
   "pygments_lexer": "ipython3",
   "version": "3.7.3"
  }
 },
 "nbformat": 4,
 "nbformat_minor": 5
}
